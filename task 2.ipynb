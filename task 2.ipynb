{
 "cells": [
  {
   "cell_type": "code",
   "execution_count": 7,
   "id": "93d17167",
   "metadata": {},
   "outputs": [
    {
     "name": "stdout",
     "output_type": "stream",
     "text": [
      "     Age  GraduationYear  Department_Chemistry  Department_Computer Science  \\\n",
      "79    19            2030                     1                            0   \n",
      "197   21            2025                     0                            0   \n",
      "38    24            2024                     1                            0   \n",
      "24    22            2026                     0                            1   \n",
      "122   18            2030                     0                            0   \n",
      "..   ...             ...                   ...                          ...   \n",
      "106   20            2030                     0                            0   \n",
      "14    23            2030                     0                            1   \n",
      "92    23            2028                     1                            0   \n",
      "179   18            2028                     0                            0   \n",
      "102   24            2030                     0                            0   \n",
      "\n",
      "     Department_Mathematics  Department_Physics  \n",
      "79                        0                   0  \n",
      "197                       1                   0  \n",
      "38                        0                   0  \n",
      "24                        0                   0  \n",
      "122                       0                   1  \n",
      "..                      ...                 ...  \n",
      "106                       0                   0  \n",
      "14                        0                   0  \n",
      "92                        0                   0  \n",
      "179                       0                   0  \n",
      "102                       0                   1  \n",
      "\n",
      "[160 rows x 6 columns]\n",
      "Mean Absolute Error (MAE): 0.54\n",
      "Root Mean Squared Error (RMSE): 0.63\n"
     ]
    }
   ],
   "source": [
    "import pandas as pd\n",
    "from sklearn.model_selection import train_test_split\n",
    "from sklearn.preprocessing import OneHotEncoder\n",
    "from sklearn.linear_model import LinearRegression\n",
    "from sklearn.metrics import mean_absolute_error, mean_squared_error\n",
    "import numpy as np\n",
    "\n",
    "# Load the dataset\n",
    "df = pd.read_csv(\"students.csv\")\n",
    "\n",
    "# Drop irrelevant columns\n",
    "df_processed = df.drop(columns=[ \"StudentID\",\"Name\", \"Email\"])\n",
    "\n",
    "# One-hot encode the categorical column \"Department\"\n",
    "df_processed = pd.get_dummies(df_processed, columns=[\"Department\"], drop_first=True)\n",
    "\n",
    "# Define features (X) and target variable (y)\n",
    "X = df_processed.drop(columns=[\"GPA\"])\n",
    "y = df_processed[\"GPA\"]\n",
    "\n",
    "# Split data into training (80%) and testing (20%) sets\n",
    "X_train, X_test, y_train, y_test = train_test_split(X, y, test_size=0.2, random_state=42)\n",
    "\n",
    "# Train a Linear Regression model\n",
    "model = LinearRegression()\n",
    "model.fit(X_train, y_train)\n",
    "\n",
    "# Make predictions\n",
    "y_pred = model.predict(X_test)\n",
    "\n",
    "# Evaluate model performance\n",
    "mae = mean_absolute_error(y_test, y_pred)\n",
    "rmse = np.sqrt(mean_squared_error(y_test, y_pred))\n",
    "\n",
    "print(X_train)\n",
    "print(f\"Mean Absolute Error (MAE): {mae:.2f}\")\n",
    "print(f\"Root Mean Squared Error (RMSE): {rmse:.2f}\")\n"
   ]
  },
  {
   "cell_type": "code",
   "execution_count": 8,
   "id": "f954e5c7",
   "metadata": {},
   "outputs": [
    {
     "name": "stdout",
     "output_type": "stream",
     "text": [
      "Selected Features: Index(['Age', 'GraduationYear', 'Department_Chemistry',\n",
      "       'Department_Computer Science', 'Department_Mathematics',\n",
      "       'Department_Physics'],\n",
      "      dtype='object')\n"
     ]
    },
    {
     "data": {
      "image/png": "[encoded data removed]",
      "text/plain": [
       "<Figure size 800x600 with 1 Axes>"
      ]
     },
     "metadata": {},
     "output_type": "display_data"
    },
    {
     "name": "stdout",
     "output_type": "stream",
     "text": [
      "Mean Absolute Error (MAE): 0.54\n",
      "Root Mean Squared Error (RMSE): 0.63\n"
     ]
    }
   ],
   "source": [
    "import pandas as pd\n",
    "import numpy as np\n",
    "import seaborn as sns\n",
    "import matplotlib.pyplot as plt\n",
    "from sklearn.model_selection import train_test_split\n",
    "from sklearn.preprocessing import OneHotEncoder\n",
    "from sklearn.linear_model import LinearRegression\n",
    "from sklearn.metrics import mean_absolute_error, mean_squared_error\n",
    "from sklearn.feature_selection import SelectKBest, f_regression\n",
    "\n",
    "# Load the dataset\n",
    "df = pd.read_csv(\"students.csv\")\n",
    "\n",
    "# Drop irrelevant columns\n",
    "df_processed = df.drop(columns=[\"StudentID\", \"Name\", \"Email\"])\n",
    "\n",
    "# One-hot encode the categorical column \"Department\"\n",
    "df_processed = pd.get_dummies(df_processed, columns=[\"Department\"], drop_first=True)\n",
    "\n",
    "# Define features (X) and target variable (y)\n",
    "X = df_processed.drop(columns=[\"GPA\"])\n",
    "y = df_processed[\"GPA\"]\n",
    "\n",
    "# Feature selection using SelectKBest\n",
    "selector = SelectKBest(score_func=f_regression, k='all')\n",
    "X_new = selector.fit_transform(X, y)\n",
    "selected_features = X.columns[selector.get_support()]\n",
    "print(\"Selected Features:\", selected_features)\n",
    "\n",
    "# Split data into training (80%) and testing (20%) sets\n",
    "X_train, X_test, y_train, y_test = train_test_split(X_new, y, test_size=0.2, random_state=42)\n",
    "\n",
    "# Train a Linear Regression model\n",
    "model = LinearRegression()\n",
    "model.fit(X_train, y_train)\n",
    "\n",
    "# Make predictions\n",
    "y_pred = model.predict(X_test)\n",
    "\n",
    "# Evaluate model performance\n",
    "mae = mean_absolute_error(y_test, y_pred)\n",
    "rmse = np.sqrt(mean_squared_error(y_test, y_pred))\n",
    "\n",
    "# Plot actual vs predicted values\n",
    "plt.figure(figsize=(8, 6))\n",
    "sns.scatterplot(x=y_test, y=y_pred)\n",
    "plt.xlabel(\"Actual GPA\")\n",
    "plt.ylabel(\"Predicted GPA\")\n",
    "plt.title(\"Actual vs Predicted GPA\")\n",
    "plt.show()\n",
    "\n",
    "print(f\"Mean Absolute Error (MAE): {mae:.2f}\")\n",
    "print(f\"Root Mean Squared Error (RMSE): {rmse:.2f}\")\n"
   ]
  },
  {
   "cell_type": "code",
   "execution_count": null,
   "id": "9f68d8ab",
   "metadata": {},
   "outputs": [],
   "source": []
  }
 ],
 "metadata": {
  "kernelspec": {
   "display_name": "Python 3 (ipykernel)",
   "language": "python",
   "name": "python3"
  },
  "language_info": {
   "codemirror_mode": {
    "name": "ipython",
    "version": 3
   },
   "file_extension": ".py",
   "mimetype": "text/x-python",
   "name": "python",
   "nbconvert_exporter": "python",
   "pygments_lexer": "ipython3",
   "version": "3.11.4"
  }
 },
 "nbformat": 4,
 "nbformat_minor": 5
}
